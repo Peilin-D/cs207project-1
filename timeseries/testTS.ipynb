{
 "cells": [
  {
   "cell_type": "code",
   "execution_count": 1,
   "metadata": {
    "collapsed": false
   },
   "outputs": [],
   "source": [
    "from TimeSeries import TimeSeries\n",
    "from TimeSeries import ArrayTimeSeries"
   ]
  },
  {
   "cell_type": "code",
   "execution_count": 2,
   "metadata": {
    "collapsed": false
   },
   "outputs": [
    {
     "name": "stdout",
     "output_type": "stream",
     "text": [
      "[(0, 1), (1, 2), (2, 3), (3, 4)]\n",
      "[(0, 1), (1, 2), (2, 3), (3, 4), (4, 6) ... (11, 5)]\n"
     ]
    },
    {
     "data": {
      "text/plain": [
       "((0, 1), (1, 2), (2, 3))"
      ]
     },
     "execution_count": 2,
     "metadata": {},
     "output_type": "execute_result"
    }
   ],
   "source": [
    "s = TimeSeries([1,2,3,4])\n",
    "s\n",
    "print(s)\n",
    "\n",
    "\n",
    "\n",
    "s = TimeSeries([1,2,3,4,5],[5,4,3,2,1])\n",
    "\n",
    "s\n",
    "\n",
    "len(s)\n",
    "\n",
    "s[2]\n",
    "\n",
    "s[4] = (3,6)\n",
    "\n",
    "s\n",
    "\n",
    "l = iter(s)\n",
    "\n",
    "next(l)\n",
    "\n",
    "next(l)\n",
    "\n",
    "s = TimeSeries([1,2,3,4,6,7,4,4,3,3,4,5])\n",
    "\n",
    "print(s)\n",
    "\n",
    "l = s.itervalues()\n",
    "\n",
    "next(l),next(l),next(l)\n",
    "\n",
    "l2 = s.itertimes()\n",
    "next(l2),next(l2),next(l2)\n",
    "\n",
    "l3 = s.iteritems()\n",
    "next(l3),next(l3),next(l3)"
   ]
  },
  {
   "cell_type": "code",
   "execution_count": 4,
   "metadata": {
    "collapsed": false
   },
   "outputs": [
    {
     "name": "stdout",
     "output_type": "stream",
     "text": [
      "[(1, 5), (2, 6), (3, 7), (4, 8)]\n"
     ]
    }
   ],
   "source": [
    "#s = ArrayTimeSeries([1,2,3,4,5,6,7,8],[5,6,7,8,9,10,11,12])\n",
    "s1 = ArrayTimeSeries([1,2,3,4],[5,6,7,8])\n",
    "#s\n",
    "print(s1)"
   ]
  },
  {
   "cell_type": "code",
   "execution_count": 6,
   "metadata": {
    "collapsed": false
   },
   "outputs": [],
   "source": [
    "pair = (1,2)\n",
    "index = 3"
   ]
  },
  {
   "cell_type": "code",
   "execution_count": null,
   "metadata": {
    "collapsed": false
   },
   "outputs": [],
   "source": []
  },
  {
   "cell_type": "code",
   "execution_count": null,
   "metadata": {
    "collapsed": false
   },
   "outputs": [],
   "source": [
    "len(s1)"
   ]
  },
  {
   "cell_type": "code",
   "execution_count": null,
   "metadata": {
    "collapsed": false
   },
   "outputs": [],
   "source": [
    "s1[2]"
   ]
  },
  {
   "cell_type": "code",
   "execution_count": null,
   "metadata": {
    "collapsed": false
   },
   "outputs": [],
   "source": [
    "s1[3] = (3,6)\n",
    "type(s1)\n",
    "print(s1)\n",
    "#s1._time_series"
   ]
  },
  {
   "cell_type": "code",
   "execution_count": null,
   "metadata": {
    "collapsed": false
   },
   "outputs": [],
   "source": [
    "l = iter(s1)\n",
    "next(l),next(l)"
   ]
  },
  {
   "cell_type": "code",
   "execution_count": null,
   "metadata": {
    "collapsed": false
   },
   "outputs": [],
   "source": [
    "s = TimeSeries([1,2,3,4,6,7,4,4,3,3,4,5])\n",
    "print(s)"
   ]
  },
  {
   "cell_type": "code",
   "execution_count": null,
   "metadata": {
    "collapsed": false
   },
   "outputs": [],
   "source": [
    "l = s1.itervalues()\n",
    "next(l),next(l),next(l)"
   ]
  },
  {
   "cell_type": "code",
   "execution_count": null,
   "metadata": {
    "collapsed": false
   },
   "outputs": [],
   "source": [
    "l2 = s1.itertimes()\n",
    "next(l2),next(l2),next(l2)"
   ]
  },
  {
   "cell_type": "code",
   "execution_count": null,
   "metadata": {
    "collapsed": false
   },
   "outputs": [],
   "source": [
    "l3 = s1.iteritems()\n",
    "next(l3),next(l3),next(l3)"
   ]
  },
  {
   "cell_type": "code",
   "execution_count": null,
   "metadata": {
    "collapsed": true
   },
   "outputs": [],
   "source": [
    "s1 = ArrayTimeSeries"
   ]
  },
  {
   "cell_type": "code",
   "execution_count": null,
   "metadata": {
    "collapsed": true
   },
   "outputs": [],
   "source": []
  },
  {
   "cell_type": "code",
   "execution_count": null,
   "metadata": {
    "collapsed": false
   },
   "outputs": [],
   "source": [
    "a = TimeSeries([1,2,3], [0,5,10])\n",
    "b = TimeSeries([100,-100], [2.5, 7.5])"
   ]
  },
  {
   "cell_type": "code",
   "execution_count": null,
   "metadata": {
    "collapsed": false
   },
   "outputs": [],
   "source": [
    "a.interpolate([1])._time_series == TimeSeries([1.2], [1])._time_series"
   ]
  },
  {
   "cell_type": "code",
   "execution_count": null,
   "metadata": {
    "collapsed": false
   },
   "outputs": [],
   "source": [
    "print (a.interpolate([1]))"
   ]
  },
  {
   "cell_type": "code",
   "execution_count": null,
   "metadata": {
    "collapsed": false
   },
   "outputs": [],
   "source": [
    "print(TimeSeries([1.2],[1]))"
   ]
  },
  {
   "cell_type": "code",
   "execution_count": null,
   "metadata": {
    "collapsed": true
   },
   "outputs": [],
   "source": []
  },
  {
   "cell_type": "code",
   "execution_count": null,
   "metadata": {
    "collapsed": true
   },
   "outputs": [],
   "source": []
  }
 ],
 "metadata": {
  "anaconda-cloud": {},
  "kernelspec": {
   "display_name": "Python [py35]",
   "language": "python",
   "name": "Python [py35]"
  },
  "language_info": {
   "codemirror_mode": {
    "name": "ipython",
    "version": 3
   },
   "file_extension": ".py",
   "mimetype": "text/x-python",
   "name": "python",
   "nbconvert_exporter": "python",
   "pygments_lexer": "ipython3",
   "version": "3.5.2"
  }
 },
 "nbformat": 4,
 "nbformat_minor": 0
}
